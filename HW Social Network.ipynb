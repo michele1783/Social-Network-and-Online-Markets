{
 "cells": [
  {
   "cell_type": "code",
   "execution_count": 1,
   "metadata": {},
   "outputs": [],
   "source": [
    "import networkx as nx\n",
    "import numpy as np\n",
    "import pandas as pd\n",
    "import math \n",
    "import matplotlib.pyplot as plt\n",
    "from scipy import stats\n",
    "import time\n",
    "import random\n",
    "import itertools\n",
    "from tabulate import tabulate\n"
   ]
  },
  {
   "cell_type": "code",
   "execution_count": 2,
   "metadata": {},
   "outputs": [],
   "source": [
    "def erdos(n, p):\n",
    "    #input:\n",
    "    #n: number of nodes\n",
    "    #p: probability of an edge to exist\n",
    "    \n",
    "    #output:\n",
    "    #G: graph that is created through Erdos–Renyi model\n",
    "    \n",
    "    #create the graph\n",
    "    G = nx.empty_graph(n)\n",
    "    \n",
    "    #possible edges\n",
    "    ed = list(itertools.combinations(range(n), 2))\n",
    "    \n",
    "    for i in range(len(ed)):\n",
    "        if random.random() < p:\n",
    "            G.add_edge(*ed[i])\n",
    "    return(G)\n",
    "\n",
    "def barabasi_albert(n , l):\n",
    "    #input:\n",
    "    #n: number of nodes\n",
    "    #l: number of neighbors that a newly arrived node comes with\n",
    "    \n",
    "    #output:\n",
    "    #G: graph that is created through Barabasi–Albert model\n",
    "    G = nx.Graph(Name = \"Barabasi\")\n",
    "    G.add_node(1)\n",
    "    G.add_node(2)\n",
    "    G.add_edge(1,2)\n",
    "    degree = G.degree()\n",
    "    for i in range(3, n + 1):\n",
    "        node_measures = dict(G.nodes())\n",
    "        for node in node_measures:\n",
    "            node_measures[node] = degree[node]\n",
    "        a = np.array(list(node_measures.values()))\n",
    "        prob = a / sum(a)\n",
    "        nodes = np.array(list(G.nodes()))\n",
    "        G.add_node(i)\n",
    "        custm = stats.rv_discrete(name='custm', values=(nodes, prob))\n",
    "        R = list(set(custm.rvs(size = l)))\n",
    "        for j in R:\n",
    "            G.add_edge(i,j)\n",
    "    return(G)\n",
    "\n",
    "def my_model(n , l, p):\n",
    "    G = nx.Graph(Name = \"Michele\")\n",
    "    G.add_node(1)\n",
    "    G.add_node(2)\n",
    "    G.add_edge(1,2)\n",
    "    degree = G.degree()\n",
    "    for i in range(3, n + 1):\n",
    "        node_measures = dict(G.nodes())\n",
    "        for node in node_measures:\n",
    "            node_measures[node] = degree[node]\n",
    "        a = np.array(list(node_measures.values()))\n",
    "        nodes = np.array(list(G.nodes()))\n",
    "        if random.random() < p:\n",
    "            prob = a / sum(a)\n",
    "        else:\n",
    "            prob = np.array([1]*len(G)) / len(G)\n",
    "        G.add_node(i)\n",
    "        custm = stats.rv_discrete(name='custm', values=(nodes, prob))\n",
    "        R = list(set(custm.rvs(size = l)))\n",
    "        for j in R:\n",
    "            G.add_edge(i,j)\n",
    "    return(G)\n",
    "        \n",
    "    \n",
    "\n",
    "def measure(grafo):\n",
    "    #input:\n",
    "    #grafo: graph\n",
    "    \n",
    "    #output:\n",
    "    #node_measures: a dictionary that has as keys the nodes and as values the degree for each node\n",
    "    #diameter: diameter of the graph\n",
    "    #avg_cluster: clustering coefficient of the graph\n",
    "    \n",
    "    try:\n",
    "        #computing the diameter of the graph\n",
    "        diameter = nx.approximation.diameter(grafo)\n",
    "\n",
    "    except:\n",
    "        #if the graph is disconnected python raises an error\n",
    "        #it happens just with graphs with few nodes\n",
    "        diameter = math.inf\n",
    "        \n",
    "    #clustering coefficient of the graph, \n",
    "    e = nx.clustering(grafo)\n",
    "    avg_cluster = sum(e.values())/len(e)\n",
    "    \n",
    "    #computing the degree for each node, like done in the lab\n",
    "    degree = grafo.degree()\n",
    "    node_measures = dict(grafo.nodes())\n",
    "    for node in node_measures:\n",
    "        node_measures[node] = degree[node]\n",
    "    table = [['Information requested', 'Answers'], ['Number of nodes', len(grafo)],['Number of edges', len(grafo.edges())],\n",
    "             ['Diameter', diameter], ['Clustering Coefficient', avg_cluster]]\n",
    "    return(node_measures, diameter, avg_cluster, table)\n",
    "    #print(\"The average clustering coeff: \", avg_cluster)"
   ]
  },
  {
   "cell_type": "code",
   "execution_count": 3,
   "metadata": {},
   "outputs": [],
   "source": [
    "def erdos_hist(dic):  \n",
    "    plt.figure(figsize=(10,6))\n",
    "    plt.hist(dic.values(), bins = 30,color='darkgreen')\n",
    "    plt.title(\"Degree distribution\", fontsize= 20)\n",
    "    plt.xlabel(\"Degree\", fontsize =12)\n",
    "    plt.ylabel(\"N. of nodes with x degree\", fontsize = 12)\n",
    "    plt.show()"
   ]
  },
  {
   "cell_type": "markdown",
   "metadata": {},
   "source": [
    "### Barabasi-Albert Model"
   ]
  },
  {
   "cell_type": "code",
   "execution_count": 4,
   "metadata": {},
   "outputs": [],
   "source": [
    "l = [3,5,7,10,5,5]\n",
    "n = [10000,10000,10000,10000,20000,40000]\n",
    "barabasi_trial = [barabasi_albert(n[i], l[i]) for i in range(6)]\n"
   ]
  },
  {
   "cell_type": "code",
   "execution_count": null,
   "metadata": {},
   "outputs": [],
   "source": [
    "#l = [3,5]\n",
    "#n = [500,500]\n",
    "#barabasi_trial = [barabasi_albert(n[i], l[i]) for i in range(2)]"
   ]
  },
  {
   "cell_type": "code",
   "execution_count": 5,
   "metadata": {},
   "outputs": [],
   "source": [
    "res_barabasi = []\n",
    "for i in barabasi_trial:\n",
    "    res_barabasi.append(measure(i))"
   ]
  },
  {
   "cell_type": "code",
   "execution_count": 6,
   "metadata": {},
   "outputs": [],
   "source": [
    "diam = []\n",
    "clus = []\n",
    "for i in res_barabasi:\n",
    "    diam.append(i[1])\n",
    "    clus.append(i[2])"
   ]
  },
  {
   "cell_type": "code",
   "execution_count": 7,
   "metadata": {},
   "outputs": [
    {
     "data": {
      "image/png": "[encoded data removed]",
      "text/plain": [
       "<Figure size 720x432 with 1 Axes>"
      ]
     },
     "metadata": {
      "needs_background": "light"
     },
     "output_type": "display_data"
    },
    {
     "data": {
      "image/png": "[encoded data removed]",
      "text/plain": [
       "<Figure size 720x432 with 1 Axes>"
      ]
     },
     "metadata": {
      "needs_background": "light"
     },
     "output_type": "display_data"
    },
    {
     "data": {
      "image/png": "[encoded data removed]",
      "text/plain": [
       "<Figure size 720x432 with 1 Axes>"
      ]
     },
     "metadata": {
      "needs_background": "light"
     },
     "output_type": "display_data"
    },
    {
     "data": {
      "image/png": "[encoded data removed]",
      "text/plain": [
       "<Figure size 720x432 with 1 Axes>"
      ]
     },
     "metadata": {
      "needs_background": "light"
     },
     "output_type": "display_data"
    },
    {
     "data": {
      "image/png": "[encoded data removed]",
      "text/plain": [
       "<Figure size 720x432 with 1 Axes>"
      ]
     },
     "metadata": {
      "needs_background": "light"
     },
     "output_type": "display_data"
    },
    {
     "data": {
      "image/png": "[encoded data removed]",
      "text/plain": [
       "<Figure size 720x432 with 1 Axes>"
      ]
     },
     "metadata": {
      "needs_background": "light"
     },
     "output_type": "display_data"
    }
   ],
   "source": [
    "c=0\n",
    "for i in res_barabasi:\n",
    "    plt.figure(figsize=(10,6))\n",
    "    plt.hist(i[0].values(), bins = 30, range = [l[c], max(i[0].values()) +2], color='darkgreen')\n",
    "    plt.title(f\"Degree distribution with n = \"+str(n[c])+\" and l = \"+str(l[c]), fontsize = 20)\n",
    "    plt.xlabel(\"Degree\", fontsize =12)\n",
    "    plt.ylabel(\"N. of nodes with x degree\", fontsize = 12)\n",
    "    plt.yscale('log')\n",
    "    plt.show()\n",
    "    #Nodes versus their degree\n",
    "    #plt.figure(figsize=(10,6))\n",
    "    #plt.bar(i[0].keys(), res_barabasi[0][0].values(), color='g')\n",
    "    #plt.title(f\"Degree distribution with n = \"+str(n[c])+\" and l = \"+str(l[c]), fontsize = 20)\n",
    "    #plt.xlabel(\"Node\", fontsize =12)\n",
    "    #plt.ylabel(\"Degree\", fontsize = 12)\n",
    "    #plt.yscale('log')\n",
    "    #plt.show()\n",
    "    c += 1"
   ]
  },
  {
   "cell_type": "code",
   "execution_count": 8,
   "metadata": {},
   "outputs": [
    {
     "data": {
      "text/html": [
       "<div>\n",
       "<style scoped>\n",
       "    .dataframe tbody tr th:only-of-type {\n",
       "        vertical-align: middle;\n",
       "    }\n",
       "\n",
       "    .dataframe tbody tr th {\n",
       "        vertical-align: top;\n",
       "    }\n",
       "\n",
       "    .dataframe thead th {\n",
       "        text-align: right;\n",
       "    }\n",
       "</style>\n",
       "<table border=\"1\" class=\"dataframe\">\n",
       "  <thead>\n",
       "    <tr style=\"text-align: right;\">\n",
       "      <th></th>\n",
       "      <th>Number of nodes</th>\n",
       "      <th>New edges at each step</th>\n",
       "      <th>Diameter</th>\n",
       "      <th>Average Cluster Coefficient</th>\n",
       "    </tr>\n",
       "  </thead>\n",
       "  <tbody>\n",
       "    <tr>\n",
       "      <th>0</th>\n",
       "      <td>10000</td>\n",
       "      <td>3</td>\n",
       "      <td>7</td>\n",
       "      <td>0.004759</td>\n",
       "    </tr>\n",
       "    <tr>\n",
       "      <th>1</th>\n",
       "      <td>10000</td>\n",
       "      <td>5</td>\n",
       "      <td>5</td>\n",
       "      <td>0.007198</td>\n",
       "    </tr>\n",
       "    <tr>\n",
       "      <th>2</th>\n",
       "      <td>10000</td>\n",
       "      <td>7</td>\n",
       "      <td>5</td>\n",
       "      <td>0.008618</td>\n",
       "    </tr>\n",
       "    <tr>\n",
       "      <th>3</th>\n",
       "      <td>10000</td>\n",
       "      <td>10</td>\n",
       "      <td>4</td>\n",
       "      <td>0.009931</td>\n",
       "    </tr>\n",
       "    <tr>\n",
       "      <th>4</th>\n",
       "      <td>20000</td>\n",
       "      <td>5</td>\n",
       "      <td>6</td>\n",
       "      <td>0.003519</td>\n",
       "    </tr>\n",
       "    <tr>\n",
       "      <th>5</th>\n",
       "      <td>40000</td>\n",
       "      <td>5</td>\n",
       "      <td>6</td>\n",
       "      <td>0.002377</td>\n",
       "    </tr>\n",
       "  </tbody>\n",
       "</table>\n",
       "</div>"
      ],
      "text/plain": [
       "   Number of nodes  New edges at each step  Diameter  \\\n",
       "0            10000                       3         7   \n",
       "1            10000                       5         5   \n",
       "2            10000                       7         5   \n",
       "3            10000                      10         4   \n",
       "4            20000                       5         6   \n",
       "5            40000                       5         6   \n",
       "\n",
       "   Average Cluster Coefficient  \n",
       "0                     0.004759  \n",
       "1                     0.007198  \n",
       "2                     0.008618  \n",
       "3                     0.009931  \n",
       "4                     0.003519  \n",
       "5                     0.002377  "
      ]
     },
     "execution_count": 8,
     "metadata": {},
     "output_type": "execute_result"
    }
   ],
   "source": [
    "df = pd.DataFrame(list(zip(n, l, diam, clus)),\n",
    "               columns =['Number of nodes', 'New edges at each step', 'Diameter', 'Average Cluster Coefficient'])\n",
    "df"
   ]
  },
  {
   "cell_type": "markdown",
   "metadata": {},
   "source": [
    "### Erdos-Renyi Model"
   ]
  },
  {
   "cell_type": "code",
   "execution_count": null,
   "metadata": {},
   "outputs": [],
   "source": [
    "p = [0.1,0.3,0.5,0.9,0.5,0.5]\n",
    "n = [10000,10000,10000,10000,50000,100000]\n",
    "erdos_trial = [erdos(n[i], l[i]) for i in range(6)]"
   ]
  },
  {
   "cell_type": "code",
   "execution_count": 40,
   "metadata": {},
   "outputs": [],
   "source": [
    "p = [0.1,0.5]\n",
    "n = [500,500]\n",
    "erdos_trial = [erdos(n[i], p[i]) for i in range(2)]"
   ]
  },
  {
   "cell_type": "code",
   "execution_count": 41,
   "metadata": {},
   "outputs": [
    {
     "data": {
      "text/plain": [
       "500"
      ]
     },
     "execution_count": 41,
     "metadata": {},
     "output_type": "execute_result"
    }
   ],
   "source": [
    "len(erdos_trial[0])"
   ]
  },
  {
   "cell_type": "code",
   "execution_count": 22,
   "metadata": {},
   "outputs": [],
   "source": [
    "res_erdos = []\n",
    "for i in erdos_trial:\n",
    "    res_erdos.append(measure(i))"
   ]
  },
  {
   "cell_type": "code",
   "execution_count": 23,
   "metadata": {},
   "outputs": [],
   "source": [
    "diam = []\n",
    "clus = []\n",
    "for i in res_erdos:\n",
    "    diam.append(i[1])\n",
    "    clus.append(i[2])"
   ]
  },
  {
   "cell_type": "code",
   "execution_count": 24,
   "metadata": {},
   "outputs": [
    {
     "data": {
      "image/png": "[encoded data removed]",
      "text/plain": [
       "<Figure size 720x432 with 1 Axes>"
      ]
     },
     "metadata": {
      "needs_background": "light"
     },
     "output_type": "display_data"
    },
    {
     "data": {
      "image/png": "[encoded data removed]",
      "text/plain": [
       "<Figure size 720x432 with 1 Axes>"
      ]
     },
     "metadata": {
      "needs_background": "light"
     },
     "output_type": "display_data"
    }
   ],
   "source": [
    "c=0\n",
    "for i in res_erdos:\n",
    "    plt.figure(figsize=(10,6))\n",
    "    plt.hist(i[0].values(), bins = 30, color='darkgreen')\n",
    "    plt.title(f\"Degree distribution with n = \"+str(n[c])+\" and p = \"+str(p[c]), fontsize = 20)\n",
    "    plt.xlabel(\"Degree\", fontsize =12)\n",
    "    plt.ylabel(\"N. of nodes with x degree\", fontsize = 12)\n",
    "    plt.yscale('log')\n",
    "    plt.show()\n",
    "    #Nodes versus their degree\n",
    "    #plt.figure(figsize=(10,6))\n",
    "    #plt.bar(i[0].keys(), res_barabasi[0][0].values(), color='g')\n",
    "    #plt.title(f\"Degree distribution with n = \"+str(n[c])+\" and l = \"+str(l[c]), fontsize = 20)\n",
    "    #plt.xlabel(\"Node\", fontsize =12)\n",
    "    #plt.ylabel(\"Degree\", fontsize = 12)\n",
    "    #plt.yscale('log')\n",
    "    #plt.show()\n",
    "    c += 1"
   ]
  },
  {
   "cell_type": "code",
   "execution_count": 25,
   "metadata": {},
   "outputs": [
    {
     "data": {
      "text/html": [
       "<div>\n",
       "<style scoped>\n",
       "    .dataframe tbody tr th:only-of-type {\n",
       "        vertical-align: middle;\n",
       "    }\n",
       "\n",
       "    .dataframe tbody tr th {\n",
       "        vertical-align: top;\n",
       "    }\n",
       "\n",
       "    .dataframe thead th {\n",
       "        text-align: right;\n",
       "    }\n",
       "</style>\n",
       "<table border=\"1\" class=\"dataframe\">\n",
       "  <thead>\n",
       "    <tr style=\"text-align: right;\">\n",
       "      <th></th>\n",
       "      <th>Number of nodes</th>\n",
       "      <th>New edges at each step</th>\n",
       "      <th>Diameter</th>\n",
       "      <th>Average Cluster Coefficient</th>\n",
       "    </tr>\n",
       "  </thead>\n",
       "  <tbody>\n",
       "    <tr>\n",
       "      <th>0</th>\n",
       "      <td>500</td>\n",
       "      <td>0.1</td>\n",
       "      <td>3</td>\n",
       "      <td>0.101088</td>\n",
       "    </tr>\n",
       "    <tr>\n",
       "      <th>1</th>\n",
       "      <td>500</td>\n",
       "      <td>0.5</td>\n",
       "      <td>2</td>\n",
       "      <td>0.499530</td>\n",
       "    </tr>\n",
       "  </tbody>\n",
       "</table>\n",
       "</div>"
      ],
      "text/plain": [
       "   Number of nodes  New edges at each step  Diameter  \\\n",
       "0              500                     0.1         3   \n",
       "1              500                     0.5         2   \n",
       "\n",
       "   Average Cluster Coefficient  \n",
       "0                     0.101088  \n",
       "1                     0.499530  "
      ]
     },
     "execution_count": 25,
     "metadata": {},
     "output_type": "execute_result"
    }
   ],
   "source": [
    "df_1 = pd.DataFrame(list(zip(n, p, diam, clus)),\n",
    "               columns =['Number of nodes', 'New edges at each step', 'Diameter', 'Average Cluster Coefficient'])\n",
    "df_1"
   ]
  },
  {
   "cell_type": "code",
   "execution_count": 69,
   "metadata": {},
   "outputs": [
    {
     "data": {
      "image/png": "[encoded data removed]",
      "text/plain": [
       "<Figure size 720x432 with 1 Axes>"
      ]
     },
     "metadata": {
      "needs_background": "light"
     },
     "output_type": "display_data"
    }
   ],
   "source": [
    "erdos_hist(r[0])"
   ]
  },
  {
   "cell_type": "code",
   "execution_count": 92,
   "metadata": {},
   "outputs": [],
   "source": [
    "a = barabasi_albert(2000, l = 3)\n",
    "#nx.info(a)\n",
    "#nx.draw(a, with_labels = True)\n",
    "r = measure(a)\n"
   ]
  },
  {
   "cell_type": "code",
   "execution_count": 93,
   "metadata": {},
   "outputs": [
    {
     "name": "stdout",
     "output_type": "stream",
     "text": [
      "╒═════════════════════════╤══════════════╕\n",
      "│ Information requested   │      Answers │\n",
      "╞═════════════════════════╪══════════════╡\n",
      "│ Number of nodes         │ 2000         │\n",
      "├─────────────────────────┼──────────────┤\n",
      "│ Number of edges         │ 5970         │\n",
      "├─────────────────────────┼──────────────┤\n",
      "│ Diameter                │    6         │\n",
      "├─────────────────────────┼──────────────┤\n",
      "│ Clustering Coefficient  │    0.0172185 │\n",
      "╘═════════════════════════╧══════════════╛\n"
     ]
    }
   ],
   "source": [
    "print(tabulate(r[1], headers='firstrow', tablefmt='fancy_grid'))"
   ]
  },
  {
   "cell_type": "code",
   "execution_count": 94,
   "metadata": {},
   "outputs": [
    {
     "data": {
      "image/png": "[encoded data removed]",
      "text/plain": [
       "<Figure size 720x432 with 1 Axes>"
      ]
     },
     "metadata": {
      "needs_background": "light"
     },
     "output_type": "display_data"
    }
   ],
   "source": [
    "barabasi_hist(r[0])"
   ]
  },
  {
   "cell_type": "markdown",
   "metadata": {},
   "source": [
    "## Trials"
   ]
  },
  {
   "cell_type": "code",
   "execution_count": 17,
   "metadata": {},
   "outputs": [
    {
     "name": "stdout",
     "output_type": "stream",
     "text": [
      "0.00014710426330566406\n"
     ]
    }
   ],
   "source": [
    "start_time = time.time()\n",
    "\n",
    "erdos_trial = [erdos(5, 0.7)]\n",
    "print(time.time() - start_time)\n"
   ]
  },
  {
   "cell_type": "code",
   "execution_count": null,
   "metadata": {},
   "outputs": [],
   "source": [
    "erdos_trial = [erdos(500, 0.1),erdos(500, 0.2), erdos(500, 0.5), erdos(500, 0.9)]\n",
    "diam = [measure(erdos_trial[i])[1] for i in range(4)]\n",
    "cluster = [measure(erdos_trial[i])[2] for i in range(4)]\n",
    "erdos_degree = [measure(erdos_trial[i])[0] for i in range(4)]\n",
    "print(nx.info(erdos_trial[0]))\n",
    "print(\"The diameter is: \", diam[0])\n",
    "print(\"The clustering coefficient is: \", cluster[0])\n",
    "plt.figure(figsize=(10,6))\n",
    "plt.hist(erdos_degree[0].values(), bins= 20, color='orchid')\n",
    "plt.title(\"Degree distribution\", fontsize= 20)\n",
    "plt.xlabel(\"Degree\", fontsize =12)\n",
    "plt.ylabel(\"N. of nodes with x degree\", fontsize = 12)\n",
    "plt.show()\n",
    "\n",
    "print(nx.info(erdos_trial[1]))\n",
    "print(\"The diameter is: \", diam[1])\n",
    "print(\"The clustering coefficient is: \", cluster[1])\n",
    "plt.figure(figsize=(10,6))\n",
    "plt.hist(erdos_degree[1].values(), bins= 20, color='orchid')\n",
    "plt.title(\"Degree distribution\", fontsize= 20)\n",
    "plt.xlabel(\"Degree\", fontsize =12)\n",
    "plt.ylabel(\"N. of nodes with x degree\", fontsize = 12)\n",
    "plt.show()\n",
    "\n",
    "print(nx.info(erdos_trial[2]))\n",
    "print(\"The diameter is: \", diam[2])\n",
    "print(\"The clustering coefficient is: \", cluster[2])\n",
    "plt.figure(figsize=(10,6))\n",
    "plt.hist(erdos_degree[2].values(), bins= 20, color='orchid')\n",
    "plt.title(\"Degree distribution\", fontsize= 20)\n",
    "plt.xlabel(\"Degree\", fontsize =12)\n",
    "plt.ylabel(\"N. of nodes with x degree\", fontsize = 12)\n",
    "plt.show()\n",
    "\n",
    "print(nx.info(erdos_trial[3]))\n",
    "print(\"The diameter is: \", diam[3])\n",
    "print(\"The clustering coefficient is: \", cluster[3])\n",
    "plt.figure(figsize=(10,6))\n",
    "plt.hist(erdos_degree[3].values(), bins= 20, color='orchid')\n",
    "plt.title(\"Degree distribution\", fontsize= 20)\n",
    "plt.xlabel(\"Degree\", fontsize =12)\n",
    "plt.ylabel(\"N. of nodes with x degree\", fontsize = 12)\n",
    "plt.show()"
   ]
  },
  {
   "cell_type": "code",
   "execution_count": 9,
   "metadata": {},
   "outputs": [
    {
     "name": "stdout",
     "output_type": "stream",
     "text": [
      "0.5017068386077881\n",
      "0.010298967361450195\n",
      "0.010036945343017578\n",
      "0.009682178497314453\n"
     ]
    }
   ],
   "source": [
    "start_time = time.time()\n",
    "barabasi_trial = [barabasi_albert(500, 2)]\n",
    "print(time.time() - start_time)\n",
    "\n",
    "start_time = time.time()\n",
    "diam = measure(barabasi_trial[0])[1]\n",
    "print(time.time() - start_time)\n",
    "\n",
    "start_time = time.time()\n",
    "cluster = measure(barabasi_trial[0])[2]\n",
    "print(time.time() - start_time)\n",
    "\n",
    "start_time = time.time()\n",
    "barabasi_degree = measure(barabasi_trial[0])[0]\n",
    "print(time.time() - start_time)"
   ]
  },
  {
   "cell_type": "code",
   "execution_count": 10,
   "metadata": {},
   "outputs": [
    {
     "name": "stdout",
     "output_type": "stream",
     "text": [
      "Graph with 500 nodes and 991 edges\n",
      "The diameter is:  6\n",
      "The clustering coefficient is:  0.03374669487184415\n"
     ]
    },
    {
     "name": "stderr",
     "output_type": "stream",
     "text": [
      "<ipython-input-10-99e491c9e3cf>:2: DeprecationWarning: info is deprecated and will be removed in version 3.0.\n",
      "\n",
      "  print(nx.info(barabasi_trial[0]))\n"
     ]
    },
    {
     "data": {
      "image/png": "[encoded data removed]",
      "text/plain": [
       "<Figure size 720x432 with 1 Axes>"
      ]
     },
     "metadata": {
      "needs_background": "light"
     },
     "output_type": "display_data"
    },
    {
     "name": "stdout",
     "output_type": "stream",
     "text": [
      "0.199354887008667\n"
     ]
    }
   ],
   "source": [
    "start_time = time.time()\n",
    "print(nx.info(barabasi_trial[0]))\n",
    "print(\"The diameter is: \", diam)\n",
    "print(\"The clustering coefficient is: \", cluster)\n",
    "plt.figure(figsize=(10,6))\n",
    "plt.hist(barabasi_degree.values(), bins= 20, range=[2, 50], color='darkgreen')\n",
    "plt.title(\"Degree distribution\", fontsize= 20)\n",
    "plt.xlabel(\"Degree\", fontsize =12)\n",
    "plt.ylabel(\"N. of nodes with x degree\", fontsize = 12)\n",
    "plt.show()\n",
    "print(time.time() - start_time)"
   ]
  },
  {
   "cell_type": "code",
   "execution_count": 32,
   "metadata": {},
   "outputs": [
    {
     "name": "stdout",
     "output_type": "stream",
     "text": [
      "Name: \n",
      "Type: Graph\n",
      "Number of nodes: 500\n",
      "Number of edges: 991\n",
      "Average degree:   3.9640\n",
      "The diameter is:  7\n",
      "The clustering coefficient is:  0.03374669487184415\n"
     ]
    },
    {
     "data": {
      "image/png": "[encoded data removed]",
      "text/plain": [
       "<Figure size 720x432 with 1 Axes>"
      ]
     },
     "metadata": {
      "needs_background": "light"
     },
     "output_type": "display_data"
    },
    {
     "name": "stdout",
     "output_type": "stream",
     "text": [
      "Name: \n",
      "Type: Graph\n",
      "Number of nodes: 500\n",
      "Number of edges: 1478\n",
      "Average degree:   5.9120\n",
      "The diameter is:  5\n",
      "The clustering coefficient is:  0.05663342030314914\n"
     ]
    },
    {
     "data": {
      "image/png": "[encoded data removed]",
      "text/plain": [
       "<Figure size 720x432 with 1 Axes>"
      ]
     },
     "metadata": {
      "needs_background": "light"
     },
     "output_type": "display_data"
    },
    {
     "name": "stdout",
     "output_type": "stream",
     "text": [
      "Name: \n",
      "Type: Graph\n",
      "Number of nodes: 500\n",
      "Number of edges: 2425\n",
      "Average degree:   9.7000\n",
      "The diameter is:  4\n",
      "The clustering coefficient is:  0.071199597019607\n"
     ]
    },
    {
     "data": {
      "image/png": "[encoded data removed]",
      "text/plain": [
       "<Figure size 720x432 with 1 Axes>"
      ]
     },
     "metadata": {
      "needs_background": "light"
     },
     "output_type": "display_data"
    },
    {
     "name": "stdout",
     "output_type": "stream",
     "text": [
      "Name: \n",
      "Type: Graph\n",
      "Number of nodes: 500\n",
      "Number of edges: 3365\n",
      "Average degree:  13.4600\n",
      "The diameter is:  4\n",
      "The clustering coefficient is:  0.07855880793357566\n"
     ]
    },
    {
     "data": {
      "image/png": "[encoded data removed]",
      "text/plain": [
       "<Figure size 720x432 with 1 Axes>"
      ]
     },
     "metadata": {
      "needs_background": "light"
     },
     "output_type": "display_data"
    }
   ],
   "source": [
    "barabasi_trial = [barabasi_albert(500, 2), barabasi_albert(500, 3), barabasi_albert(500, 5), barabasi_albert(500, 7)]\n",
    "diam = [measure(barabasi_trial[i])[1] for i in range(4)]\n",
    "cluster = [measure(barabasi_trial[i])[2] for i in range(4)]\n",
    "barabasi_degree = [measure(barabasi_trial[i])[0] for i in range(4)]\n",
    "print(nx.info(barabasi_trial[0]))\n",
    "print(\"The diameter is: \", diam[0])\n",
    "print(\"The clustering coefficient is: \", cluster[0])\n",
    "plt.figure(figsize=(10,6))\n",
    "plt.hist(barabasi_degree[0].values(), bins= 20, color='darkgreen')\n",
    "plt.title(\"Degree distribution\", fontsize= 20)\n",
    "plt.xlabel(\"Degree\", fontsize =12)\n",
    "plt.ylabel(\"N. of nodes with x degree\", fontsize = 12)\n",
    "plt.show()\n",
    "\n",
    "print(nx.info(barabasi_trial[1]))\n",
    "print(\"The diameter is: \", diam[1])\n",
    "print(\"The clustering coefficient is: \", cluster[1])\n",
    "plt.figure(figsize=(10,6))\n",
    "plt.hist(barabasi_degree[1].values(), bins= 20, color='darkgreen')\n",
    "plt.title(\"Degree distribution\", fontsize= 20)\n",
    "plt.xlabel(\"Degree\", fontsize =12)\n",
    "plt.ylabel(\"N. of nodes with x degree\", fontsize = 12)\n",
    "plt.show()\n",
    "\n",
    "print(nx.info(barabasi_trial[2]))\n",
    "print(\"The diameter is: \", diam[2])\n",
    "print(\"The clustering coefficient is: \", cluster[2])\n",
    "plt.figure(figsize=(10,6))\n",
    "plt.hist(barabasi_degree[2].values(), bins= 20, color='darkgreen')\n",
    "plt.title(\"Degree distribution\", fontsize= 20)\n",
    "plt.xlabel(\"Degree\", fontsize =12)\n",
    "plt.ylabel(\"N. of nodes with x degree\", fontsize = 12)\n",
    "plt.show()\n",
    "\n",
    "print(nx.info(barabasi_trial[3]))\n",
    "print(\"The diameter is: \", diam[3])\n",
    "print(\"The clustering coefficient is: \", cluster[3])\n",
    "plt.figure(figsize=(10,6))\n",
    "plt.hist(barabasi_degree[3].values(), bins= 20, color='darkgreen')\n",
    "plt.title(\"Degree distribution\", fontsize= 20)\n",
    "plt.xlabel(\"Degree\", fontsize =12)\n",
    "plt.ylabel(\"N. of nodes with x degree\", fontsize = 12)\n",
    "plt.show()"
   ]
  },
  {
   "cell_type": "code",
   "execution_count": 187,
   "metadata": {},
   "outputs": [
    {
     "data": {
      "image/png": "[encoded data removed]",
      "text/plain": [
       "<Figure size 720x432 with 1 Axes>"
      ]
     },
     "metadata": {
      "needs_background": "light"
     },
     "output_type": "display_data"
    }
   ],
   "source": [
    "plt.figure(figsize=(10,6))\n",
    "plt.bar(res_barabasi[0][0].keys(), res_barabasi[0][0].values(), color='g')\n",
    "plt.xlabel(\"Degree\", fontsize =12)\n",
    "plt.ylabel(\"N. of nodes with x degree\", fontsize = 12)\n",
    "plt.yscale('log')\n",
    "plt.show()\n"
   ]
  },
  {
   "cell_type": "code",
   "execution_count": 97,
   "metadata": {},
   "outputs": [
    {
     "data": {
      "image/png": "[encoded data removed]",
      "text/plain": [
       "<Figure size 432x288 with 1 Axes>"
      ]
     },
     "metadata": {
      "needs_background": "light"
     },
     "output_type": "display_data"
    }
   ],
   "source": [
    "plt.bar(a.keys(), a.values(), color='g')\n",
    "plt.show()"
   ]
  },
  {
   "cell_type": "code",
   "execution_count": 71,
   "metadata": {},
   "outputs": [
    {
     "data": {
      "image/png": "[encoded data removed]",
      "text/plain": [
       "<Figure size 432x288 with 1 Axes>"
      ]
     },
     "metadata": {
      "needs_background": "light"
     },
     "output_type": "display_data"
    }
   ],
   "source": [
    "a = measure(t[0])[0]\n",
    "plt.hist(a.values(), bins = 14, color='g')\n",
    "plt.show()"
   ]
  },
  {
   "cell_type": "code",
   "execution_count": 72,
   "metadata": {},
   "outputs": [
    {
     "data": {
      "image/png": "[encoded data removed]",
      "text/plain": [
       "<Figure size 432x288 with 1 Axes>"
      ]
     },
     "metadata": {
      "needs_background": "light"
     },
     "output_type": "display_data"
    }
   ],
   "source": [
    "a = measure(t[1])[0]\n",
    "plt.hist(a.values(), bins = 14, color='g')\n",
    "plt.show()"
   ]
  },
  {
   "cell_type": "code",
   "execution_count": 74,
   "metadata": {},
   "outputs": [
    {
     "data": {
      "image/png": "[encoded data removed]",
      "text/plain": [
       "<Figure size 432x288 with 1 Axes>"
      ]
     },
     "metadata": {
      "needs_background": "light"
     },
     "output_type": "display_data"
    }
   ],
   "source": [
    "plt.bar(a.keys(), a.values(), color='g')\n",
    "plt.show()"
   ]
  },
  {
   "cell_type": "code",
   "execution_count": 119,
   "metadata": {},
   "outputs": [
    {
     "name": "stdout",
     "output_type": "stream",
     "text": [
      "0.582956075668335\n"
     ]
    }
   ],
   "source": [
    "start_time = time.time()\n",
    "a = erd(1000, 0.7)\n",
    "print(time.time() - start_time)"
   ]
  },
  {
   "cell_type": "code",
   "execution_count": 114,
   "metadata": {},
   "outputs": [
    {
     "name": "stdout",
     "output_type": "stream",
     "text": [
      "0.0059337615966796875\n"
     ]
    }
   ],
   "source": [
    "start_time = time.time()\n",
    "nx.approximation.diameter(a)\n",
    "print(time.time() - start_time)"
   ]
  },
  {
   "cell_type": "code",
   "execution_count": 120,
   "metadata": {},
   "outputs": [
    {
     "name": "stdout",
     "output_type": "stream",
     "text": [
      "33.904279947280884\n"
     ]
    }
   ],
   "source": [
    "start_time = time.time()\n",
    "e = nx.clustering(a)\n",
    "c = sum(e.values())/len(e)\n",
    "print(time.time() - start_time)"
   ]
  },
  {
   "cell_type": "code",
   "execution_count": 121,
   "metadata": {},
   "outputs": [
    {
     "data": {
      "text/plain": [
       "0.700244635139728"
      ]
     },
     "execution_count": 121,
     "metadata": {},
     "output_type": "execute_result"
    }
   ],
   "source": []
  },
  {
   "cell_type": "code",
   "execution_count": 122,
   "metadata": {},
   "outputs": [
    {
     "name": "stdout",
     "output_type": "stream",
     "text": [
      "34.31115388870239\n"
     ]
    }
   ],
   "source": [
    "start_time = time.time()\n",
    "t = nx.average_clustering(a)\n",
    "print(time.time() - start_time)"
   ]
  },
  {
   "cell_type": "code",
   "execution_count": 123,
   "metadata": {},
   "outputs": [
    {
     "data": {
      "text/plain": [
       "0.700244635139728"
      ]
     },
     "execution_count": 123,
     "metadata": {},
     "output_type": "execute_result"
    }
   ],
   "source": [
    "t"
   ]
  },
  {
   "cell_type": "markdown",
   "metadata": {},
   "source": [
    "### SNAP library"
   ]
  },
  {
   "cell_type": "code",
   "execution_count": 58,
   "metadata": {},
   "outputs": [
    {
     "data": {
      "text/html": [
       "<div>\n",
       "<style scoped>\n",
       "    .dataframe tbody tr th:only-of-type {\n",
       "        vertical-align: middle;\n",
       "    }\n",
       "\n",
       "    .dataframe tbody tr th {\n",
       "        vertical-align: top;\n",
       "    }\n",
       "\n",
       "    .dataframe thead th {\n",
       "        text-align: right;\n",
       "    }\n",
       "</style>\n",
       "<table border=\"1\" class=\"dataframe\">\n",
       "  <thead>\n",
       "    <tr style=\"text-align: right;\">\n",
       "      <th></th>\n",
       "      <th>node1</th>\n",
       "      <th>node2</th>\n",
       "    </tr>\n",
       "  </thead>\n",
       "  <tbody>\n",
       "    <tr>\n",
       "      <th>0</th>\n",
       "      <td>24325</td>\n",
       "      <td>24394</td>\n",
       "    </tr>\n",
       "    <tr>\n",
       "      <th>1</th>\n",
       "      <td>24325</td>\n",
       "      <td>40517</td>\n",
       "    </tr>\n",
       "    <tr>\n",
       "      <th>2</th>\n",
       "      <td>24325</td>\n",
       "      <td>58507</td>\n",
       "    </tr>\n",
       "    <tr>\n",
       "      <th>3</th>\n",
       "      <td>24394</td>\n",
       "      <td>3737</td>\n",
       "    </tr>\n",
       "    <tr>\n",
       "      <th>4</th>\n",
       "      <td>24394</td>\n",
       "      <td>3905</td>\n",
       "    </tr>\n",
       "  </tbody>\n",
       "</table>\n",
       "</div>"
      ],
      "text/plain": [
       "   node1  node2\n",
       "0  24325  24394\n",
       "1  24325  40517\n",
       "2  24325  58507\n",
       "3  24394   3737\n",
       "4  24394   3905"
      ]
     },
     "execution_count": 58,
     "metadata": {},
     "output_type": "execute_result"
    }
   ],
   "source": [
    "HepTh = pd.read_csv(\"ca-HepTh.txt\", sep = \"\\t\", header = None, names = [\"node1\", \"node2\"])\n",
    "HepTh.head()"
   ]
  },
  {
   "cell_type": "code",
   "execution_count": 59,
   "metadata": {},
   "outputs": [
    {
     "name": "stderr",
     "output_type": "stream",
     "text": [
      "<ipython-input-59-9cdfb39a9bca>:2: DeprecationWarning: info is deprecated and will be removed in version 3.0.\n",
      "\n",
      "  nx.info(paper)\n"
     ]
    },
    {
     "data": {
      "text/plain": [
       "'Graph with 9877 nodes and 25998 edges'"
      ]
     },
     "execution_count": 59,
     "metadata": {},
     "output_type": "execute_result"
    }
   ],
   "source": [
    "paper = nx.from_pandas_edgelist(df, source =\"node1\", target =\"node2\", create_using=nx.Graph())\n",
    "nx.info(paper)"
   ]
  },
  {
   "cell_type": "code",
   "execution_count": 69,
   "metadata": {},
   "outputs": [
    {
     "data": {
      "text/html": [
       "<div>\n",
       "<style scoped>\n",
       "    .dataframe tbody tr th:only-of-type {\n",
       "        vertical-align: middle;\n",
       "    }\n",
       "\n",
       "    .dataframe tbody tr th {\n",
       "        vertical-align: top;\n",
       "    }\n",
       "\n",
       "    .dataframe thead th {\n",
       "        text-align: right;\n",
       "    }\n",
       "</style>\n",
       "<table border=\"1\" class=\"dataframe\">\n",
       "  <thead>\n",
       "    <tr style=\"text-align: right;\">\n",
       "      <th></th>\n",
       "      <th>node1</th>\n",
       "      <th>node2</th>\n",
       "    </tr>\n",
       "  </thead>\n",
       "  <tbody>\n",
       "    <tr>\n",
       "      <th>0</th>\n",
       "      <td>0</td>\n",
       "      <td>23977</td>\n",
       "    </tr>\n",
       "    <tr>\n",
       "      <th>1</th>\n",
       "      <td>1</td>\n",
       "      <td>34526</td>\n",
       "    </tr>\n",
       "    <tr>\n",
       "      <th>2</th>\n",
       "      <td>1</td>\n",
       "      <td>2370</td>\n",
       "    </tr>\n",
       "    <tr>\n",
       "      <th>3</th>\n",
       "      <td>1</td>\n",
       "      <td>14683</td>\n",
       "    </tr>\n",
       "    <tr>\n",
       "      <th>4</th>\n",
       "      <td>1</td>\n",
       "      <td>29982</td>\n",
       "    </tr>\n",
       "  </tbody>\n",
       "</table>\n",
       "</div>"
      ],
      "text/plain": [
       "   node1  node2\n",
       "0      0  23977\n",
       "1      1  34526\n",
       "2      1   2370\n",
       "3      1  14683\n",
       "4      1  29982"
      ]
     },
     "execution_count": 69,
     "metadata": {},
     "output_type": "execute_result"
    }
   ],
   "source": [
    "git = pd.read_csv(\"musae_git_edges.csv\", sep = \",\", header = 0, names = [\"node1\", \"node2\"])\n",
    "git.head()"
   ]
  },
  {
   "cell_type": "code",
   "execution_count": 68,
   "metadata": {},
   "outputs": [
    {
     "name": "stderr",
     "output_type": "stream",
     "text": [
      "<ipython-input-68-55a86e3c8213>:2: DeprecationWarning: info is deprecated and will be removed in version 3.0.\n",
      "\n",
      "  nx.info(github)\n"
     ]
    },
    {
     "data": {
      "text/plain": [
       "'Graph with 37700 nodes and 289003 edges'"
      ]
     },
     "execution_count": 68,
     "metadata": {},
     "output_type": "execute_result"
    }
   ],
   "source": [
    "github = nx.from_pandas_edgelist(git, source =\"node1\", target =\"node2\", create_using=nx.Graph())\n",
    "nx.info(github)"
   ]
  },
  {
   "cell_type": "code",
   "execution_count": 70,
   "metadata": {},
   "outputs": [
    {
     "data": {
      "text/html": [
       "<div>\n",
       "<style scoped>\n",
       "    .dataframe tbody tr th:only-of-type {\n",
       "        vertical-align: middle;\n",
       "    }\n",
       "\n",
       "    .dataframe tbody tr th {\n",
       "        vertical-align: top;\n",
       "    }\n",
       "\n",
       "    .dataframe thead th {\n",
       "        text-align: right;\n",
       "    }\n",
       "</style>\n",
       "<table border=\"1\" class=\"dataframe\">\n",
       "  <thead>\n",
       "    <tr style=\"text-align: right;\">\n",
       "      <th></th>\n",
       "      <th>node1</th>\n",
       "      <th>node2</th>\n",
       "    </tr>\n",
       "  </thead>\n",
       "  <tbody>\n",
       "    <tr>\n",
       "      <th>0</th>\n",
       "      <td>0</td>\n",
       "      <td>18427</td>\n",
       "    </tr>\n",
       "    <tr>\n",
       "      <th>1</th>\n",
       "      <td>1</td>\n",
       "      <td>21708</td>\n",
       "    </tr>\n",
       "    <tr>\n",
       "      <th>2</th>\n",
       "      <td>1</td>\n",
       "      <td>22208</td>\n",
       "    </tr>\n",
       "    <tr>\n",
       "      <th>3</th>\n",
       "      <td>1</td>\n",
       "      <td>22171</td>\n",
       "    </tr>\n",
       "    <tr>\n",
       "      <th>4</th>\n",
       "      <td>1</td>\n",
       "      <td>6829</td>\n",
       "    </tr>\n",
       "  </tbody>\n",
       "</table>\n",
       "</div>"
      ],
      "text/plain": [
       "   node1  node2\n",
       "0      0  18427\n",
       "1      1  21708\n",
       "2      1  22208\n",
       "3      1  22171\n",
       "4      1   6829"
      ]
     },
     "execution_count": 70,
     "metadata": {},
     "output_type": "execute_result"
    }
   ],
   "source": [
    "fb = pd.read_csv(\"musae_facebook_edges.csv\", sep = \",\", header = 0, names = [\"node1\", \"node2\"])\n",
    "fb.head()"
   ]
  },
  {
   "cell_type": "code",
   "execution_count": 71,
   "metadata": {},
   "outputs": [
    {
     "name": "stderr",
     "output_type": "stream",
     "text": [
      "<ipython-input-71-b2440b1f7c82>:2: DeprecationWarning: info is deprecated and will be removed in version 3.0.\n",
      "\n",
      "  nx.info(facebook)\n"
     ]
    },
    {
     "data": {
      "text/plain": [
       "'Graph with 22470 nodes and 171002 edges'"
      ]
     },
     "execution_count": 71,
     "metadata": {},
     "output_type": "execute_result"
    }
   ],
   "source": [
    "facebook = nx.from_pandas_edgelist(fb, source =\"node1\", target =\"node2\", create_using=nx.Graph())\n",
    "nx.info(facebook)"
   ]
  },
  {
   "cell_type": "code",
   "execution_count": null,
   "metadata": {},
   "outputs": [],
   "source": []
  }
 ],
 "metadata": {
  "kernelspec": {
   "display_name": "Python 3",
   "language": "python",
   "name": "python3"
  },
  "language_info": {
   "codemirror_mode": {
    "name": "ipython",
    "version": 3
   },
   "file_extension": ".py",
   "mimetype": "text/x-python",
   "name": "python",
   "nbconvert_exporter": "python",
   "pygments_lexer": "ipython3",
   "version": "3.8.3"
  }
 },
 "nbformat": 4,
 "nbformat_minor": 4
}
